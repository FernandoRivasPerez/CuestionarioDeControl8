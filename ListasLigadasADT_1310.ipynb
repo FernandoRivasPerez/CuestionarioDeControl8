{
  "nbformat": 4,
  "nbformat_minor": 0,
  "metadata": {
    "colab": {
      "name": "ListasLigadasADT_1310.ipynb",
      "provenance": [],
      "collapsed_sections": []
    },
    "kernelspec": {
      "name": "python3",
      "display_name": "Python 3"
    },
    "language_info": {
      "name": "python"
    }
  },
  "cells": [
    {
      "cell_type": "markdown",
      "metadata": {
        "id": "W5IZw2o30imf"
      },
      "source": [
        "# Ejercicios con la clase Nodo\n",
        "\n",
        "- Crear un nodo 10\n",
        "    - Imprimir el valor del nodo\n",
        "- Crear dos nodos 10, 20\n",
        "    - Imprimir el valor del primero\n",
        "    - Imprimir el valor del segundo\n",
        "    - Transversal\n",
        "- Lo mismo pero con 4 nodos 10, 20, 30, 40\n",
        "    - Imprimir el valor del primero\n",
        "    - Imprimir el valor del ultimo\n",
        "    - Transversal\n",
        "    - insertar el nodo 25 despues del nodo 20 y antes del nodo 30\n",
        "    \n",
        "\n",
        "## Todo esto antes de ir a la escritura dormal del ADT Lista Ligada"
      ]
    },
    {
      "cell_type": "code",
      "metadata": {
        "id": "QvujzjbX0eNl"
      },
      "source": [
        "class Nodo:\n",
        "    def __init__( self , value , siguiente = None ):\n",
        "        self.data = value\n",
        "        self.next = siguiente\n"
      ],
      "execution_count": 56,
      "outputs": []
    },
    {
      "cell_type": "code",
      "metadata": {
        "colab": {
          "base_uri": "https://localhost:8080/"
        },
        "id": "PA6Bpbba14u0",
        "outputId": "4eb8bca1-7b3d-4f4b-b8ec-b1382e4f64de"
      },
      "source": [
        "head = Nodo(10)\n",
        "print( head.data )"
      ],
      "execution_count": 57,
      "outputs": [
        {
          "output_type": "stream",
          "name": "stdout",
          "text": [
            "10\n"
          ]
        }
      ]
    },
    {
      "cell_type": "code",
      "metadata": {
        "colab": {
          "base_uri": "https://localhost:8080/"
        },
        "id": "3MecpQbO2eim",
        "outputId": "17520c85-a696-47a2-a4c8-f8888139483b"
      },
      "source": [
        "head = Nodo(10)\n",
        "head.next = Nodo(20)\n",
        "print(f\"Primero: { head.data }\")\n",
        "print(f\"Segundo: { head.next.data }\")\n",
        "\n",
        "# Lo mismo pero ahorrando código\n",
        "\n",
        "head = Nodo( 10 , Nodo( 20  ))\n",
        "print(f\"Primero: { head.data }\")\n",
        "print(f\"Segundo: { head.next.data }\")\n",
        "\n",
        "# Transversal\n",
        "curr_node = head\n",
        "while curr_node != None:\n",
        "    print(f\"| { curr_node.data } |--> \" , end=\"\")\n",
        "    curr_node = curr_node.next\n",
        "print(\"\")"
      ],
      "execution_count": 58,
      "outputs": [
        {
          "output_type": "stream",
          "name": "stdout",
          "text": [
            "Primero: 10\n",
            "Segundo: 20\n",
            "Primero: 10\n",
            "Segundo: 20\n",
            "| 10 |--> | 20 |--> \n"
          ]
        }
      ]
    },
    {
      "cell_type": "code",
      "metadata": {
        "colab": {
          "base_uri": "https://localhost:8080/"
        },
        "id": "o8MzZKpV66Pv",
        "outputId": "962b6e03-a306-4d75-bef0-7c46de89a1df"
      },
      "source": [
        "head = Nodo( 10, Nodo(20, Nodo(30, Nodo(40))))\n",
        "\n",
        "# Transversal\n",
        "curr_node = head\n",
        "while curr_node != None:\n",
        "    print(f\"| { curr_node.data } |--> \" , end=\"\")\n",
        "    curr_node = curr_node.next\n",
        "print(\"\")\n",
        "# Imprimir el primero\n",
        "print(head.data)\n",
        "# Imprimir el ultimo\n",
        "curr_node = head\n",
        "while curr_node.next != None:\n",
        "    curr_node = curr_node.next\n",
        "print(curr_node.data)\n",
        "#Insertar el nodo 25, después del nodo 20 y antes del nodo 30\n",
        "curr_node = head\n",
        "while curr_node.data !=20:\n",
        "    curr_node = curr_node.next\n",
        "print(curr_node.data)\n",
        "\n",
        "#crear el nodo 25\n",
        "curr_node.next = Nodo(25,curr_node.next)\n",
        "\n",
        "# Transversal\n",
        "curr_node = head\n",
        "while curr_node != None:\n",
        "    print(f\"| { curr_node.data } |--> \" , end=\"\")\n",
        "    curr_node = curr_node.next\n",
        "print(\"\")"
      ],
      "execution_count": 59,
      "outputs": [
        {
          "output_type": "stream",
          "name": "stdout",
          "text": [
            "| 10 |--> | 20 |--> | 30 |--> | 40 |--> \n",
            "10\n",
            "40\n",
            "20\n",
            "| 10 |--> | 20 |--> | 25 |--> | 30 |--> | 40 |--> \n"
          ]
        }
      ]
    },
    {
      "cell_type": "markdown",
      "metadata": {
        "id": "LzjubNMbclBX"
      },
      "source": [
        ""
      ]
    },
    {
      "cell_type": "code",
      "metadata": {
        "id": "dyB_EDW6c1gu"
      },
      "source": [
        "class Nodo:\n",
        "    def __init__( self , value , siguiente = None ):\n",
        "        self.data = value\n",
        "        self.next = siguiente\n",
        "\n",
        "class LinkedList:\n",
        "    def __init__( self ):\n",
        "        self.head = None\n",
        "    \n",
        "    def is_empty( self ):\n",
        "        return self.head == None\n",
        "    \n",
        "    def get_tail( self ):\n",
        "        if self.is_empty():\n",
        "            return None\n",
        "        else:\n",
        "            curr_node = self.head\n",
        "            while curr_node.next != None:\n",
        "                curr_node = curr_node.next\n",
        "            return curr_node\n",
        "    \n",
        "    def preppend( self , value ):\n",
        "        if self.head == None:\n",
        "            print(\"Esta vacio, no se puede hacer preppend\")\n",
        "        else:\n",
        "            aux = self.head\n",
        "            self.head = Nodo( value, aux )\n",
        "\n",
        "    def append( self , value ):\n",
        "        if self.head == None:\n",
        "            self.head = Nodo( value )\n",
        "        else:\n",
        "            curr_node = self.head\n",
        "            while curr_node.next != None:\n",
        "                curr_node = curr_node.next\n",
        "            curr_node.next = Nodo(value)\n",
        "\n",
        "    def transversal( self ):\n",
        "        curr_node = self.head\n",
        "        while curr_node != None:\n",
        "            print(f\"| { curr_node.data } | -->\", end=\"\")\n",
        "            curr_node = curr_node.next\n",
        "        print(\"\")\n",
        "    \n",
        "    def remove( self, value):\n",
        "        if self.head == None:\n",
        "            print(\"Lista vacia, no se puede remover nada\")\n",
        "        else:\n",
        "            curr_node = self.head\n",
        "            aux = None\n",
        "            while curr_node.data != value: #revisar cuando el valor no exista\n",
        "                aux = curr_node\n",
        "                curr_node = curr_node.next\n",
        "            \n",
        "            if curr_node != None:\n",
        "                aux.next = curr_node.next\n",
        "                curr_node = None\n",
        "    "
      ],
      "execution_count": 64,
      "outputs": []
    },
    {
      "cell_type": "code",
      "metadata": {
        "colab": {
          "base_uri": "https://localhost:8080/"
        },
        "id": "1WS8LlI_feib",
        "outputId": "d72a0fd9-f0f6-4eb8-a08e-b41319da6a13"
      },
      "source": [
        "lista = LinkedList()\n",
        "if lista.is_empty():\n",
        "    print(\"La lista está vacia\")\n",
        "else:\n",
        "    print(\"Las lista no está vacia\")\n",
        "\n",
        "lista.append(10)\n",
        "lista.append(20)\n",
        "lista.append(30)\n",
        "lista.append(40)\n",
        "lista.append(50)\n",
        "\n",
        "nodo = lista.get_tail()\n",
        "if nodo != None:\n",
        "    print(nodo.data)\n",
        "else:\n",
        "    print(\"Lista vacia\")\n",
        "\n",
        "lista.transversal()\n",
        "lista.remove(30)\n",
        "lista.transversal()\n",
        "print(\"Después del preppend\")\n",
        "lista.preppend(5)\n",
        "lista.transversal()"
      ],
      "execution_count": 65,
      "outputs": [
        {
          "output_type": "stream",
          "name": "stdout",
          "text": [
            "La lista está vacia\n",
            "50\n",
            "| 10 | -->| 20 | -->| 30 | -->| 40 | -->| 50 | -->\n",
            "| 10 | -->| 20 | -->| 40 | -->| 50 | -->\n",
            "Después del preppend\n",
            "| 5 | -->| 10 | -->| 20 | -->| 40 | -->| 50 | -->\n"
          ]
        }
      ]
    }
  ]
}